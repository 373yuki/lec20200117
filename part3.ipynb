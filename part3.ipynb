{
 "cells": [
  {
   "cell_type": "markdown",
   "metadata": {},
   "source": [
    "# Python演習３\n",
    "## 状態空間モデルに基づく制御系設計"
   ]
  },
  {
   "cell_type": "code",
   "execution_count": 1,
   "metadata": {},
   "outputs": [],
   "source": [
    "from control.matlab import *\n",
    "import matplotlib.pyplot as plt\n",
    "import numpy as np"
   ]
  },
  {
   "cell_type": "markdown",
   "metadata": {},
   "source": [
    "### 状態空間モデルの時間応答"
   ]
  },
  {
   "cell_type": "code",
   "execution_count": 2,
   "metadata": {},
   "outputs": [
    {
     "data": {
      "image/png": "[encoded data removed]",
      "text/plain": [
       "<Figure size 432x165.6 with 2 Axes>"
      ]
     },
     "metadata": {
      "needs_background": "light"
     },
     "output_type": "display_data"
    }
   ],
   "source": [
    "A = [[0, 1],[-4, -5]]\n",
    "B = [[0], [1]]\n",
    "C = np.eye(2)\n",
    "D = np.zeros([2, 1])\n",
    "P = ss(A, B, C, D)\n",
    "\n",
    "Td = np.arange(0, 5, 0.01)\n",
    "Ud = 1*(Td>0) #ステップ入力\n",
    "X0 = [-0.3, 0.4]\n",
    "\n",
    "xst, t = step(P, Td) #ゼロ状態応答（ステップ入力）\n",
    "xin, _ = initial(P, Td, X0) #ゼロ入力応答\n",
    "x, _, _ = lsim(P, Ud, Td, X0) \n",
    "\n",
    "fig, ax = plt.subplots(1, 2, figsize=(6, 2.3)) \n",
    "for i in [0, 1]:\n",
    "    ax[i].plot(t, x[:,i], label='response')\n",
    "    ax[i].plot(t, xst[:,i], ls='--', label='zero state')\n",
    "    ax[i].plot(t, xin[:,i], ls='-.', label='zero input')\n",
    "    ax[i].grid(ls=':')\n",
    "\n",
    "ax[0].set_xlabel('t')\n",
    "ax[0].set_ylabel('$x_1$')\n",
    "ax[1].set_xlabel('t')\n",
    "ax[1].set_ylabel('$x_2$')\n",
    "ax[1].legend()\n",
    "\n",
    "fig.tight_layout()"
   ]
  },
  {
   "cell_type": "markdown",
   "metadata": {},
   "source": [
    "ゼロ状態応答とゼロ入力応答を足すと，完全応答になる"
   ]
  },
  {
   "cell_type": "markdown",
   "metadata": {},
   "source": [
    "### 可制御性，可観測性"
   ]
  },
  {
   "cell_type": "code",
   "execution_count": 3,
   "metadata": {},
   "outputs": [
    {
     "name": "stdout",
     "output_type": "stream",
     "text": [
      "A = [[ 0.  1.]\n",
      " [-4.  5.]]\n",
      "\n",
      "B = [[0.]\n",
      " [1.]]\n",
      "\n",
      "C = [[1. 0.]]\n",
      "\n",
      "D = [[0.]]\n",
      "\n"
     ]
    }
   ],
   "source": [
    "A = [[0, 1], [-4, 5]]\n",
    "B = [[0], [1]]\n",
    "C = [1, 0]\n",
    "D = [0]\n",
    "P = ss(A, B, C, D)\n",
    "print(P)"
   ]
  },
  {
   "cell_type": "code",
   "execution_count": 4,
   "metadata": {},
   "outputs": [
    {
     "name": "stdout",
     "output_type": "stream",
     "text": [
      "Uc=\n",
      " [[0. 1.]\n",
      " [1. 5.]]\n",
      "det(Uc)= -1.0\n",
      "rank(Uc)= 2\n"
     ]
    }
   ],
   "source": [
    "Uc = ctrb(P.A, P.B)\n",
    "print('Uc=\\n',Uc)\n",
    "print('det(Uc)=', np.linalg.det(Uc))\n",
    "print('rank(Uc)=', np.linalg.matrix_rank(Uc))"
   ]
  },
  {
   "cell_type": "markdown",
   "metadata": {},
   "source": [
    "Ucがフルランク（正則）であるので，(A,B)は可制御"
   ]
  },
  {
   "cell_type": "code",
   "execution_count": 5,
   "metadata": {},
   "outputs": [
    {
     "name": "stdout",
     "output_type": "stream",
     "text": [
      "Uo=\n",
      " [[1. 0.]\n",
      " [0. 1.]]\n",
      "det(Uo)= 1.0\n",
      "rank(Uo)= 2\n"
     ]
    }
   ],
   "source": [
    "Uo = obsv(P.A, P.C)\n",
    "print('Uo=\\n', Uo)\n",
    "print('det(Uo)=', np.linalg.det(Uo))\n",
    "print('rank(Uo)=', np.linalg.matrix_rank(Uo))"
   ]
  },
  {
   "cell_type": "markdown",
   "metadata": {},
   "source": [
    "Uoがフルランク（正則）であるので，(A,C)は可観測"
   ]
  },
  {
   "cell_type": "markdown",
   "metadata": {},
   "source": [
    "### 状態フィードバック"
   ]
  },
  {
   "cell_type": "markdown",
   "metadata": {},
   "source": [
    "極配置による設計"
   ]
  },
  {
   "cell_type": "code",
   "execution_count": 6,
   "metadata": {},
   "outputs": [
    {
     "name": "stdout",
     "output_type": "stream",
     "text": [
      "[1. 4.]\n"
     ]
    }
   ],
   "source": [
    "A = [[0, 1], [-4, 5]]\n",
    "B = [[0], [1]]\n",
    "C = np.eye(2)\n",
    "D = np.zeros((2,1))\n",
    "P = ss(A, B, C, D)\n",
    "print(P.pole())"
   ]
  },
  {
   "cell_type": "code",
   "execution_count": 7,
   "metadata": {},
   "outputs": [
    {
     "name": "stdout",
     "output_type": "stream",
     "text": [
      "F= [[ 3. -7.]]\n",
      "[-1. -1.]\n"
     ]
    }
   ],
   "source": [
    "Pole = [-1, -1]\n",
    "F = -acker(P.A, P.B, Pole)\n",
    "print('F=',F)\n",
    "print(np.linalg.eigvals(P.A+P.B*F))"
   ]
  },
  {
   "cell_type": "markdown",
   "metadata": {},
   "source": [
    "極配置ができている"
   ]
  },
  {
   "cell_type": "code",
   "execution_count": 8,
   "metadata": {},
   "outputs": [
    {
     "data": {
      "image/png": "[encoded data removed]",
      "text/plain": [
       "<Figure size 216x165.6 with 1 Axes>"
      ]
     },
     "metadata": {
      "needs_background": "light"
     },
     "output_type": "display_data"
    }
   ],
   "source": [
    "Acl = P.A + P.B*F\n",
    "Pfb = ss(Acl, P.B, P.C, P.D)\n",
    "\n",
    "Td = np.arange(0, 5, 0.01)\n",
    "X0 = [-0.3, 0.4]\n",
    "x, t = initial(Pfb, Td, X0) #ゼロ入力応答\n",
    "\n",
    "fig, ax = plt.subplots(figsize=(3, 2.3))\n",
    "ax.plot(t, x[:,0], label = '$x_1$')\n",
    "ax.plot(t, x[:,1], ls = '-.', label = '$x_2$')\n",
    "ax.set_xlabel('t')\n",
    "ax.set_ylabel('x')\n",
    "ax.legend()\n",
    "ax.grid(ls=':')"
   ]
  },
  {
   "cell_type": "markdown",
   "metadata": {},
   "source": [
    "最適レギュレータ"
   ]
  },
  {
   "cell_type": "code",
   "execution_count": 9,
   "metadata": {},
   "outputs": [
    {
     "name": "stdout",
     "output_type": "stream",
     "text": [
      "--- フィードバックゲイン ---\n",
      "[[ -6.77032961 -11.28813639]]\n",
      "--- 閉ループ極 ---\n",
      "[-3.14406819+0.94083198j -3.14406819-0.94083198j]\n"
     ]
    }
   ],
   "source": [
    "Q = [ [100, 0], [0, 1]]\n",
    "R = 1\n",
    "\n",
    "F, _, _ = lqr(P.A, P.B, Q, R)\n",
    "F = -F\n",
    "\n",
    "print('--- フィードバックゲイン ---')\n",
    "print(F)\n",
    "print('--- 閉ループ極 ---')\n",
    "print(np.linalg.eigvals(P.A+P.B*F))"
   ]
  },
  {
   "cell_type": "code",
   "execution_count": 10,
   "metadata": {},
   "outputs": [
    {
     "data": {
      "image/png": "[encoded data removed]",
      "text/plain": [
       "<Figure size 216x165.6 with 1 Axes>"
      ]
     },
     "metadata": {
      "needs_background": "light"
     },
     "output_type": "display_data"
    }
   ],
   "source": [
    "Acl = P.A + P.B*F\n",
    "Pfb = ss(Acl, P.B, P.C, P.D)\n",
    "\n",
    "tdata = np.arange(0, 5, 0.01)\n",
    "xini, tini = initial(Pfb, tdata, [-0.3, 0.4]) #ゼロ入力応答\n",
    "\n",
    "fig, ax = plt.subplots(figsize=(3, 2.3))\n",
    "\n",
    "ax.plot(tini, xini[:,0], label = '$x_1$')\n",
    "ax.plot(tini, xini[:,1], ls = '-.', label = '$x_2$')\n",
    "\n",
    "ax.set_xlabel('t')\n",
    "ax.set_ylabel('x')\n",
    "ax.legend()\n",
    "ax.grid(ls=':')"
   ]
  },
  {
   "cell_type": "markdown",
   "metadata": {},
   "source": [
    "### 積分サーボ系\n",
    "\n",
    "積分サーボ系を構築することで，一定値の目標値に出力を追従させることができます\n",
    "また，一定値の外乱やモデル化誤差の影響を消すことができます"
   ]
  },
  {
   "cell_type": "code",
   "execution_count": 11,
   "metadata": {},
   "outputs": [],
   "source": [
    "A = [[0, 1], [-4, 5]]\n",
    "B = [[0], [1]]\n",
    "C = [1, 0]\n",
    "D = [0]\n",
    "P = ss(A, B, C, D)"
   ]
  },
  {
   "cell_type": "markdown",
   "metadata": {},
   "source": [
    "拡大系を構築し，フィードバックゲイン（状態FBと積分器のゲイン）を設計する"
   ]
  },
  {
   "cell_type": "code",
   "execution_count": 12,
   "metadata": {},
   "outputs": [],
   "source": [
    "Abar = np.r_[ np.c_[P.A, np.zeros((2,1))], -np.c_[ P.C, 0 ] ]\n",
    "Bbar = np.c_[ P.B.T, 0 ].T\n",
    "Cbar = np.c_[ P.C, 0 ]"
   ]
  },
  {
   "cell_type": "code",
   "execution_count": 13,
   "metadata": {},
   "outputs": [
    {
     "data": {
      "text/plain": [
       "matrix([[ -7., -12.,   5.]])"
      ]
     },
     "execution_count": 13,
     "metadata": {},
     "output_type": "execute_result"
    }
   ],
   "source": [
    "Pole = [-1, -1, -5]\n",
    "F = -acker(Abar, Bbar, Pole)\n",
    "F"
   ]
  },
  {
   "cell_type": "code",
   "execution_count": 14,
   "metadata": {},
   "outputs": [
    {
     "data": {
      "image/png": "[encoded data removed]",
      "text/plain": [
       "<Figure size 216x165.6 with 1 Axes>"
      ]
     },
     "metadata": {
      "needs_background": "light"
     },
     "output_type": "display_data"
    }
   ],
   "source": [
    "Acl = Abar + Bbar*F\n",
    "Pfb = ss(Acl, Bbar, np.eye(3), np.zeros((3,1)))\n",
    "\n",
    "Td = np.arange(0, 8, 0.01)\n",
    "Ud = 0.5 * (Td>2) # ステップ状の外乱\n",
    "x, t, _ = lsim(Pfb, Ud, Td, [-0.3, 0.4, 0])\n",
    " \n",
    "fig, ax = plt.subplots(figsize=(3, 2.3))\n",
    "ax.plot(t, x[:,0], label = '$x_1$')\n",
    "ax.plot(t, x[:,1], ls = '-.',label = '$x_2$')\n",
    "ax.set_xlabel('t')\n",
    "ax.set_ylabel('x')\n",
    "ax.legend()\n",
    "ax.grid(ls=':')"
   ]
  },
  {
   "cell_type": "markdown",
   "metadata": {},
   "source": [
    "２秒後に一定値の外乱が加わるが，その影響を受けず最終的に０に収束している"
   ]
  },
  {
   "cell_type": "markdown",
   "metadata": {},
   "source": [
    "### オブザーバ"
   ]
  },
  {
   "cell_type": "code",
   "execution_count": 15,
   "metadata": {},
   "outputs": [
    {
     "name": "stdout",
     "output_type": "stream",
     "text": [
      "[[-46. -15.]]\n"
     ]
    }
   ],
   "source": [
    "A = [[0, 1], [-4, 5]]\n",
    "B = [[0], [1]]\n",
    "C = [1, 0]\n",
    "D = [0]\n",
    "P = ss(A, B, C, D)\n",
    "\n",
    "# レギュレータ極\n",
    "regulator_poles = [-5+5j, -5-5j]\n",
    "# 極配置\n",
    "F = -acker(P.A, P.B, regulator_poles)\n",
    "print(F)"
   ]
  },
  {
   "cell_type": "markdown",
   "metadata": {},
   "source": [
    "オブザーバゲインの設計はackerを用いる．Aの転置とCの転置を引数とすると，Lの転置がもとまる（双対性）"
   ]
  },
  {
   "cell_type": "code",
   "execution_count": 16,
   "metadata": {},
   "outputs": [
    {
     "name": "stdout",
     "output_type": "stream",
     "text": [
      "[[ -35.]\n",
      " [-421.]]\n"
     ]
    }
   ],
   "source": [
    "# オブザーバ極\n",
    "observer_poles=[-15+5j,-15-5j]\n",
    "\n",
    "# オブザーバゲインの設計（状態フィードバックの双対） \n",
    "L = -acker(P.A.T, P.C.T, observer_poles).T\n",
    "print(L)"
   ]
  },
  {
   "cell_type": "code",
   "execution_count": 17,
   "metadata": {},
   "outputs": [],
   "source": [
    "Gsf = ss(P.A + P.B*F, P.B, np.eye(2), [[0],[0]])\n",
    "Obs = ss(P.A + L*P.C, np.c_[P.B, -L], np.eye(2), np.zeros((2,2)) )"
   ]
  },
  {
   "cell_type": "code",
   "execution_count": 18,
   "metadata": {},
   "outputs": [
    {
     "data": {
      "image/png": "[encoded data removed]",
      "text/plain": [
       "<Figure size 432x165.6 with 2 Axes>"
      ]
     },
     "metadata": {
      "needs_background": "light"
     },
     "output_type": "display_data"
    }
   ],
   "source": [
    "fig, ax = plt.subplots(1,2, figsize=(6, 2.3))\n",
    "\n",
    "T = np.arange(0, 3, 0.01)\n",
    "X0 = [-1, 0.5]\n",
    "x, t = initial(Gsf, T, X0)\n",
    "ax[0].plot(t, x[:, 0], ls='-.', label='${x}_1$')\n",
    "ax[1].plot(t, x[:, 1], ls='-.', label='${x}_2$')\n",
    "\n",
    "# 入力 u = Fx\n",
    "u = [ [F[0,0]*x[i,0]+F[0,1]*x[i,1]] for i in range(len(x))]\n",
    "# 出力 y = Cx\n",
    "y = x[:, 0]\n",
    "# オブザーバで推定した状態の振る舞い\n",
    "xhat, t, x0 = lsim(Obs, np.c_[u, y], T, [0, 0])\n",
    "ax[0].plot(t, xhat[:, 0], label='$\\hat{x}_1$')\n",
    "ax[1].plot(t, xhat[:, 1], label='$\\hat{x}_2$')\n",
    "\n",
    "for i in [0, 1]:\n",
    "    ax[i].set_xlabel('t')\n",
    "    ax[i].set_xlim([0, 3])\n",
    "    ax[i].grid(ls=':')\n",
    "    ax[i].legend()\n",
    "\n",
    "ax[0].set_ylim([-2, 2])\n",
    "ax[0].set_ylabel('$x_1, \\hat{x}_1$')\n",
    "ax[1].set_ylabel('$x_2, \\hat{x}_2$')\n",
    "\n",
    "fig.tight_layout()"
   ]
  },
  {
   "cell_type": "markdown",
   "metadata": {},
   "source": [
    "### 外乱オブザーバ\n",
    "出力に一定値の外乱が加わると，オブザーバの推定値に誤差が生じる．そこで，外乱を含めて推定するようにする"
   ]
  },
  {
   "cell_type": "code",
   "execution_count": 19,
   "metadata": {},
   "outputs": [
    {
     "name": "stdout",
     "output_type": "stream",
     "text": [
      "[[ 149.5]\n",
      " [-526. ]\n",
      " [-187.5]]\n"
     ]
    }
   ],
   "source": [
    "# オブザーバ極\n",
    "observer_poles=[-15+5j,-15-5j, -3] \n",
    "\n",
    "# オブザーバゲインの設計（状態フィードバックの双対）\n",
    "E = [[0], [0]]\n",
    "Abar = np.r_[ np.c_[P.A, E], np.zeros((1,3))] \n",
    "Bbar = np.c_[ P.B.T, np.zeros((1,1)) ].T\n",
    "Cbar = np.c_[ P.C, 1 ]\n",
    "\n",
    "Lbar = -acker(Abar.T, Cbar.T, observer_poles).T\n",
    "print(Lbar)\n",
    "\n",
    "Fbar = np.c_[ F, 0 ]\n",
    "\n",
    "Aob = Abar + Lbar*Cbar\n",
    "Bob = np.c_[Bbar, -Lbar]\n",
    "Obs = ss(Aob, Bob, np.eye(3), [[0,0],[0,0],[0,0]] )"
   ]
  },
  {
   "cell_type": "code",
   "execution_count": 20,
   "metadata": {},
   "outputs": [
    {
     "data": {
      "image/png": "[encoded data removed]",
      "text/plain": [
       "<Figure size 432x165.6 with 2 Axes>"
      ]
     },
     "metadata": {
      "needs_background": "light"
     },
     "output_type": "display_data"
    },
    {
     "data": {
      "image/png": "[encoded data removed]",
      "text/plain": [
       "<Figure size 216x165.6 with 1 Axes>"
      ]
     },
     "metadata": {
      "needs_background": "light"
     },
     "output_type": "display_data"
    }
   ],
   "source": [
    "fig, ax = plt.subplots(1,2, figsize=(6, 2.3))\n",
    "\n",
    "Td = np.arange(0, 3, 0.01)\n",
    "X0 = [-1, 0.5]\n",
    "d = 0.5*(T>0)\n",
    "x, t = initial(Gsf, Td, X0)\n",
    "ax[0].plot(t, x[:, 0], ls='-.', label='${x}_1$')\n",
    "ax[1].plot(t, x[:, 1], ls='-.', label='${x}_2$')\n",
    "\n",
    "\n",
    "# 入力 u = Fx\n",
    "u = [ [F[0,0]*x[i,0]+F[0,1]*x[i,1]] for i in range(len(x))]\n",
    "# 出力 y = Cx+d\n",
    "y = x[:, 0]+d\n",
    "xhat, t, x0 = lsim(Obs, np.c_[u, y], T, [0, 0, 0])\n",
    "#xhat, t, x0 = lsim(Obs, x[:, 0]+d, T, [0, 0, 0])\n",
    "ax[0].plot(t, xhat[:, 0], label='$\\hat{x}_1$')\n",
    "ax[1].plot(t, xhat[:, 1], label='$\\hat{x}_2$')\n",
    "\n",
    "for i in [0, 1]:\n",
    "    ax[i].grid(ls=':')\n",
    "    ax[i].set_xlim([0, 3])\n",
    "    ax[i].set_xlabel('t')\n",
    "    ax[i].legend()\n",
    "\n",
    "ax[0].set_ylabel('$x_1, \\hat{x}_1$')\n",
    "ax[1].set_ylabel('$x_2, \\hat{x}_2$')\n",
    "\n",
    "fig.tight_layout()\n",
    "\n",
    "fig, ax = plt.subplots(figsize=(3, 2.3))\n",
    "ax.plot(t, xhat[:, 2], label='$\\hat{x}_2$', color='k')\n",
    "ax.set_xlabel('t')\n",
    "ax.set_ylabel('$\\hat{d}$')\n",
    "ax.grid(ls=':')"
   ]
  },
  {
   "cell_type": "markdown",
   "metadata": {},
   "source": [
    "出力に一定値の外乱が加わっても，推定できる．また，外乱（d=0.5）も推定することができている"
   ]
  },
  {
   "cell_type": "code",
   "execution_count": null,
   "metadata": {},
   "outputs": [],
   "source": []
  }
 ],
 "metadata": {
  "kernelspec": {
   "display_name": "Python 3",
   "language": "python",
   "name": "python3"
  },
  "language_info": {
   "codemirror_mode": {
    "name": "ipython",
    "version": 3
   },
   "file_extension": ".py",
   "mimetype": "text/x-python",
   "name": "python",
   "nbconvert_exporter": "python",
   "pygments_lexer": "ipython3",
   "version": "3.6.7"
  }
 },
 "nbformat": 4,
 "nbformat_minor": 2
}
